{
 "cells": [
  {
   "cell_type": "code",
   "execution_count": 2,
   "metadata": {
    "collapsed": true
   },
   "outputs": [],
   "source": [
    "# Write scaffolds (top down coding)\n",
    "# Run parts of the filter with dummy data and feed into the scaffold\n",
    "# Generating data\n",
    "# Should be based on timesteps and not distance\n",
    "# Generate and track a single particle first"
   ]
  },
  {
   "cell_type": "code",
   "execution_count": null,
   "metadata": {},
   "outputs": [],
   "source": [
    "# Abstract class\n",
    "class Track:\n",
    "\n",
    "    def __init__(x, P):\n",
    "        \"\"\" Initialize a new track. This gets added to the pool. \"\"\"\n",
    "        self.F = # Temporal diffusion matrix. Further increases covariance.\n",
    "        self.H # Emission matrix. Further increases covariance.\n",
    "        self.Q = # Process noise covariance matrix. Maybe this should\n",
    "        self.R = # Mesurement noise covariance matrix\n",
    "        \n",
    "        self.x = # Mean estimate\n",
    "        self.P = # Covariance estimate\n",
    "        \n",
    "        self.I = # Identity matrix\n",
    "        \n",
    "        # For now let's assume unary tick intervals\n",
    "\n",
    "    def predict(self):\n",
    "        \"\"\" Predicts the kalman track by t time. Covariance increases. \"\"\"\n",
    "        self.x = self.F * self.x\n",
    "        self.P = self.F * self.P * self.F.T + self.Q\n",
    "    \n",
    "    def update(self, y):\n",
    "        \"\"\" Updates the state of the kalman tracker. Covariance decreases. \"\"\"\n",
    "        K = self.P * self.H.T * (self.H * self.P * self.H.T + self.R).I\n",
    "        self.x = self.x + k*(y - self.H*self.x)\n",
    "        self.P = ()\n",
    "        \n",
    "class TrackerPool:\n",
    "\"\"\"\n",
    "    Tracker pool maintains the pool of tracker and does the matching. If no match found for a detection, a new track is initialized\n",
    "\n",
    "\"\"\"\n",
    "\n",
    "    def __init__(self):\n",
    "        \n",
    "    def match_observations(self, observations)\n",
    "        \"\"\" Takes a bunch of observations and matches it with the trackers and updates the one with the best match.\n",
    "        Otherwise initializes a new tracker \"\"\""
   ]
  },
  {
   "cell_type": "code",
   "execution_count": null,
   "metadata": {},
   "outputs": [],
   "source": [
    "# Simple tracking example with track. Smooth out bunch of observations."
   ]
  },
  {
   "cell_type": "code",
   "execution_count": null,
   "metadata": {},
   "outputs": [],
   "source": [
    "# One predict and one update cycle\n",
    "x = np.array([])"
   ]
  },
  {
   "cell_type": "code",
   "execution_count": 2,
   "metadata": {},
   "outputs": [],
   "source": [
    "import numpy as np\n",
    "velocity = 0.5\n",
    "times = np.array(range(10))\n",
    "positions = times*velocity"
   ]
  },
  {
   "cell_type": "code",
   "execution_count": null,
   "metadata": {},
   "outputs": [],
   "source": []
  }
 ],
 "metadata": {
  "kernelspec": {
   "display_name": "Python 2",
   "language": "python",
   "name": "python2"
  },
  "language_info": {
   "codemirror_mode": {
    "name": "ipython",
    "version": 2
   },
   "file_extension": ".py",
   "mimetype": "text/x-python",
   "name": "python",
   "nbconvert_exporter": "python",
   "pygments_lexer": "ipython2",
   "version": "2.7.12+"
  }
 },
 "nbformat": 4,
 "nbformat_minor": 2
}
